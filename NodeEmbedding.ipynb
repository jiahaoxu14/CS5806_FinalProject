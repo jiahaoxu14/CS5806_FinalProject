{
 "cells": [
  {
   "cell_type": "code",
   "execution_count": 2,
   "id": "13093d80",
   "metadata": {},
   "outputs": [
    {
     "name": "stdout",
     "output_type": "stream",
     "text": [
      "Intel MKL WARNING: Support of Intel(R) Streaming SIMD Extensions 4.2 (Intel(R) SSE4.2) enabled only processors has been deprecated. Intel oneAPI Math Kernel Library 2025.0 will require Intel(R) Advanced Vector Extensions (Intel(R) AVX) instructions.\n",
      "Intel MKL WARNING: Support of Intel(R) Streaming SIMD Extensions 4.2 (Intel(R) SSE4.2) enabled only processors has been deprecated. Intel oneAPI Math Kernel Library 2025.0 will require Intel(R) Advanced Vector Extensions (Intel(R) AVX) instructions.\n"
     ]
    },
    {
     "name": "stderr",
     "output_type": "stream",
     "text": [
      "2024-04-22 12:05:43.948175: I tensorflow/core/platform/cpu_feature_guard.cc:193] This TensorFlow binary is optimized with oneAPI Deep Neural Network Library (oneDNN) to use the following CPU instructions in performance-critical operations:  SSE4.1 SSE4.2\n",
      "To enable them in other operations, rebuild TensorFlow with the appropriate compiler flags.\n",
      "2024-04-22 12:05:47.005785: I tensorflow/core/platform/cpu_feature_guard.cc:193] This TensorFlow binary is optimized with oneAPI Deep Neural Network Library (oneDNN) to use the following CPU instructions in performance-critical operations:  SSE4.1 SSE4.2\n",
      "To enable them in other operations, rebuild TensorFlow with the appropriate compiler flags.\n"
     ]
    }
   ],
   "source": [
    "import pandas as pd\n",
    "import networkx as nx\n",
    "from gensim.models import Word2Vec\n",
    "import stellargraph as sg\n",
    "from stellargraph import StellarGraph\n",
    "from stellargraph.data import BiasedRandomWalk\n",
    "import numpy as np\n",
    "import matplotlib.pyplot as plt\n",
    "import random\n",
    "\n",
    "from sklearn.ensemble import GradientBoostingClassifier\n",
    "from sklearn.tree import DecisionTreeClassifier\n",
    "from sklearn.linear_model import LogisticRegressionCV\n",
    "from sklearn.neural_network import MLPClassifier\n",
    "\n",
    "from sklearn.model_selection import train_test_split\n",
    "from sklearn.metrics import accuracy_score, matthews_corrcoef, confusion_matrix, classification_report\n",
    "from __future__ import division\n",
    "import numpy as np\n",
    "from numpy.linalg import inv\n",
    "from scipy.spatial.distance import pdist, squareform\n",
    "import pickle"
   ]
  },
  {
   "cell_type": "markdown",
   "id": "0da5ce41",
   "metadata": {},
   "source": [
    "# Supporting Functions"
   ]
  },
  {
   "cell_type": "code",
   "execution_count": 3,
   "id": "d2b4a107",
   "metadata": {},
   "outputs": [],
   "source": [
    "def DSD_calculator(adjacency, walk_length, restart_p):\n",
    "    \"\"\"\n",
    "    adjacency - adjacency matrix represented as a numpy array\n",
    "                assumes graph is fully connected.\n",
    "    walk_length - the length of random walks used to calculate DSD\n",
    "                  if walk_length = -1, then calculate DSD at convergence\n",
    "    restart_p - the restart probability\n",
    "        if p = 0, then it's a traditional random walk\n",
    "    returns DSD matrix represented as a numpy array\n",
    "    \"\"\"\n",
    "    # Normalization of the Adjacency Matrix\n",
    "    adjacency = np.asmatrix(adjacency)\n",
    "    n = adjacency.shape[0]\n",
    "    degree = adjacency.sum(axis=1)\n",
    "    p = adjacency / degree\n",
    "    \n",
    "    # random walk\n",
    "    if walk_length >= 0:\n",
    "        c = np.eye(n)\n",
    "        for i in range(walk_length):\n",
    "            c = (1 - restart_p) * np.dot(c, p) + restart_p * np.eye(n)\n",
    "        return squareform(pdist(c,metric='cityblock'))\n",
    "    else:\n",
    "        pi = degree / degree.sum()\n",
    "        return squareform(pdist(inv(np.eye(n) - p - pi.T),metric='cityblock'))"
   ]
  },
  {
   "cell_type": "markdown",
   "id": "207606da",
   "metadata": {},
   "source": [
    "# Load Dataset & Construct Graph"
   ]
  },
  {
   "cell_type": "code",
   "execution_count": 4,
   "id": "9b8da418",
   "metadata": {},
   "outputs": [],
   "source": [
    "edges_df = pd.read_csv(\"data/git_web_ml/musae_git_edges.csv\")\n",
    "nodes_df = pd.read_csv(\"data/git_web_ml/musae_git_target.csv\")"
   ]
  },
  {
   "cell_type": "code",
   "execution_count": 5,
   "id": "17884d5e",
   "metadata": {},
   "outputs": [
    {
     "name": "stdout",
     "output_type": "stream",
     "text": [
      "Graph with 6123 nodes and 16591 edges\n"
     ]
    }
   ],
   "source": [
    "G = pickle.load(open('graph.pickle10k', 'rb'))\n",
    "print(G)"
   ]
  },
  {
   "cell_type": "code",
   "execution_count": 6,
   "id": "25d00b42",
   "metadata": {},
   "outputs": [
    {
     "name": "stdout",
     "output_type": "stream",
     "text": [
      "[   0    1    2 ... 6120 6121 6122]\n",
      "[4336 2119 4940 ...  204  912 5238]\n",
      "[4336 2119 4940 ... 1794 2886 5885]\n",
      "[2344 4069  401 ...  204  912 5238]\n"
     ]
    }
   ],
   "source": [
    "node_list = np.array(range(len(G.nodes())))\n",
    "print(node_list)\n",
    "random.Random(42).shuffle(node_list)\n",
    "print(node_list)\n",
    "trainNum = node_list[:4900]\n",
    "testNum = node_list[4900:]\n",
    "print(trainNum)\n",
    "print(testNum)"
   ]
  },
  {
   "cell_type": "code",
   "execution_count": 7,
   "id": "490a4735",
   "metadata": {},
   "outputs": [],
   "source": [
    "# Calculate DSD\n",
    "# edges = nx.to_numpy_array(G_github)\n",
    "edges = nx.to_numpy_array(G)\n",
    "# DSD = DSD_calculator(edges, -1, 0)\n",
    "DSD = np.load(\"DSD.npy\")"
   ]
  },
  {
   "cell_type": "code",
   "execution_count": 8,
   "id": "82004210",
   "metadata": {},
   "outputs": [],
   "source": [
    "# test = DSD\n",
    "# rows = len(DSD)\n",
    "# columns = len(DSD[0])\n",
    "# for i in range(rows):\n",
    "#     for j in range(columns):\n",
    "#         if DSD[i][j] == 0:\n",
    "#             test[i][j] = DSD[i][j]\n",
    "#         else:\n",
    "#             test[i][j] = 1.0 / DSD[i][j]\n",
    "\n",
    "# print(len(test))\n",
    "# node_list = list(G.nodes())\n",
    "# nodes_dftest = nodes_df\n",
    "# source_list = []\n",
    "# target_list = []\n",
    "# weight_list = []\n",
    "\n",
    "# for edges in G.edges():\n",
    "#     node1= edges[0]\n",
    "#     node2 = edges[1]\n",
    "#     index1 = node_list.index(node1)\n",
    "#     index2 = node_list.index(node2)\n",
    "#     weight = test[index1][index2]\n",
    "#     source_list.append(node1)\n",
    "#     target_list.append(node2)\n",
    "#     weight_list.append(weight)\n",
    "    \n",
    "# weighted_edges = pd.DataFrame(source_list, columns=['source'])\n",
    "# weighted_edges['target'] = target_list\n",
    "# weighted_edges['weight'] = weight_list\n",
    "# G = StellarGraph(edges=weighted_edges)\n",
    "# print(G.info())"
   ]
  },
  {
   "cell_type": "code",
   "execution_count": 9,
   "id": "91ef37ba",
   "metadata": {},
   "outputs": [],
   "source": [
    "# print(nodes_df.head())"
   ]
  },
  {
   "cell_type": "markdown",
   "id": "0011fd91",
   "metadata": {},
   "source": [
    "# Random Walk"
   ]
  },
  {
   "cell_type": "code",
   "execution_count": 10,
   "id": "3c01341e",
   "metadata": {},
   "outputs": [],
   "source": [
    "# rw = BiasedRandomWalk(G)\n",
    "\n",
    "# walks = rw.run(\n",
    "#     nodes=G.nodes(),  # root nodes\n",
    "#     length=80,  # maximum length of a random walk\n",
    "#     n=10,  # number of random walks per root node\n",
    "#     p=0.5,  # Defines (unormalised) probability, 1/p, of returning to source node\n",
    "#     q=2,  # Defines (unormalised) probability, 1/q, for moving away from source node\n",
    "#     weighted=True,  # for weighted random walks\n",
    "#     seed=42,  # random seed fixed for reproducibility\n",
    "# )"
   ]
  },
  {
   "cell_type": "code",
   "execution_count": 11,
   "id": "379fb162",
   "metadata": {},
   "outputs": [],
   "source": [
    "# print(walks[110])"
   ]
  },
  {
   "cell_type": "markdown",
   "id": "5a6cf9f6",
   "metadata": {},
   "source": [
    "# Node Embedding"
   ]
  },
  {
   "cell_type": "code",
   "execution_count": 12,
   "id": "9d9ba107",
   "metadata": {},
   "outputs": [],
   "source": [
    "# str_walks = [[str(n) for n in walk] for walk in walks]\n",
    "\n",
    "# model = Word2Vec(str_walks, vector_size = 16, window=10, min_count=1, sg=1, workers=4)"
   ]
  },
  {
   "cell_type": "code",
   "execution_count": 13,
   "id": "65f5c366",
   "metadata": {},
   "outputs": [],
   "source": [
    "# emb_df = (\n",
    "#     pd.DataFrame(\n",
    "#         [model.wv.get_vector(str(n)) for n in G.nodes()],\n",
    "#         index = G.nodes()\n",
    "#     )\n",
    "# )\n",
    "\n",
    "# test = emb_df.merge(\n",
    "#     nodes_df[['id', 'ml_target']].set_index('id'),\n",
    "#     left_index = True,\n",
    "#     right_index = True\n",
    "# )\n",
    "\n",
    "# test = test.sort_index()\n",
    "\n",
    "# test.to_csv(\"emd_DSD.csv\", index=False)"
   ]
  },
  {
   "cell_type": "markdown",
   "id": "d8deb72a",
   "metadata": {},
   "source": [
    "# Train Classifier"
   ]
  },
  {
   "cell_type": "code",
   "execution_count": 14,
   "id": "89a04392",
   "metadata": {
    "scrolled": false
   },
   "outputs": [],
   "source": [
    "test = pd.read_csv(\"emd_DSD.csv\")\n",
    "\n",
    "trainData = test.iloc[trainNum]\n",
    "testData = test.iloc[testNum]\n",
    "\n",
    "x_train = trainData.drop('ml_target', axis=1).values\n",
    "y_train = trainData['ml_target'].values\n",
    "x_test = testData.drop('ml_target', axis=1).values\n",
    "y_test = testData['ml_target'].values\n",
    "\n",
    "# x = test.drop('ml_target', axis=1).values\n",
    "# y = test['ml_target'].values\n",
    "\n",
    "# x_train, x_test, y_train, y_test = train_test_split(\n",
    "#     x, \n",
    "#     y,\n",
    "#     test_size = 0.2\n",
    "# )\n",
    "\n",
    "np.save('x_train.npy', x_train)\n",
    "np.save('x_test.npy', x_test)\n",
    "np.save('y_train.npy', y_train)\n",
    "np.save('y_test.npy', y_test)"
   ]
  },
  {
   "cell_type": "code",
   "execution_count": 15,
   "id": "f433dfc4",
   "metadata": {},
   "outputs": [
    {
     "name": "stdout",
     "output_type": "stream",
     "text": [
      "             0         1         2         3         4         5         6  \\\n",
      "0    -0.233754  1.497649 -1.516337  0.455211  0.974691 -0.707808  0.723249   \n",
      "1    -0.065850  0.162517  0.513102  0.143610  0.117548 -0.749876  0.279704   \n",
      "2    -0.153111  0.117002  0.484812  0.018099  0.043449 -0.734681  0.107581   \n",
      "3     0.863016  1.925486  0.256789 -0.041229  0.086725 -0.332766  0.508763   \n",
      "4    -0.559341  0.053292  0.166469 -0.678945  0.964164 -0.592612 -0.341839   \n",
      "...        ...       ...       ...       ...       ...       ...       ...   \n",
      "6118  0.725966  0.922044  0.257779  0.301038 -0.098568 -1.283566 -0.702538   \n",
      "6119  0.098618  0.304279  1.126940  0.659740  1.027492 -1.311324  0.740979   \n",
      "6120 -0.089114 -0.758385  0.504484 -0.116139 -0.249253 -1.261058  0.266612   \n",
      "6121  0.865673 -0.178038  1.012662  0.528514  0.571117 -0.281545 -0.289072   \n",
      "6122  0.974369  0.072033  0.628774  0.616380 -0.178352 -1.094258  0.301362   \n",
      "\n",
      "             7         8         9        10        11        12        13  \\\n",
      "0    -1.573723  0.929988  0.883897 -0.841775 -1.204283 -1.081600 -0.015238   \n",
      "1     0.146021  0.545662 -0.003534  0.237246 -0.074532 -0.246455 -0.206264   \n",
      "2     0.104574  0.546371  0.028189  0.087591 -0.014022 -0.132050 -0.256840   \n",
      "3    -0.820728  1.074181 -0.163069 -2.607714 -0.723411 -0.037566 -0.492398   \n",
      "4     1.265731  1.683429  0.765692 -0.534472  0.268921 -1.244478  0.251463   \n",
      "...        ...       ...       ...       ...       ...       ...       ...   \n",
      "6118  0.269947  0.979677 -0.499976 -0.393055  0.712392 -1.389113  1.365906   \n",
      "6119 -1.193375 -0.484015  0.209474 -0.771745 -1.555008  0.274350 -0.966450   \n",
      "6120 -0.264532  0.795226 -0.198300 -0.005191  0.109736 -1.280574 -0.355224   \n",
      "6121 -0.759096  0.661210  0.060886 -0.178507 -0.130895  0.264828  1.288014   \n",
      "6122 -0.988646  1.019504  1.337309  0.015833 -0.563344  0.990753 -0.619157   \n",
      "\n",
      "            14        15  ml_target  \n",
      "0    -0.402370  0.116790          0  \n",
      "1    -0.791559  0.480778          0  \n",
      "2    -0.800285  0.368412          0  \n",
      "3     0.077900  0.747705          0  \n",
      "4    -1.536529 -0.208615          0  \n",
      "...        ...       ...        ...  \n",
      "6118 -0.510746  0.323686          0  \n",
      "6119 -0.848421  0.556482          1  \n",
      "6120 -1.006429  0.633936          0  \n",
      "6121 -0.642921 -0.510179          0  \n",
      "6122 -0.817667 -0.430027          1  \n",
      "\n",
      "[6123 rows x 17 columns]\n"
     ]
    }
   ],
   "source": [
    "print(test)"
   ]
  },
  {
   "cell_type": "code",
   "execution_count": 31,
   "id": "2ed6a689",
   "metadata": {},
   "outputs": [
    {
     "name": "stderr",
     "output_type": "stream",
     "text": [
      "/opt/anaconda3/lib/python3.9/site-packages/sklearn/neural_network/_multilayer_perceptron.py:686: ConvergenceWarning: Stochastic Optimizer: Maximum iterations (500) reached and the optimization hasn't converged yet.\n",
      "  warnings.warn(\n",
      "/opt/anaconda3/lib/python3.9/site-packages/sklearn/neural_network/_multilayer_perceptron.py:686: ConvergenceWarning: Stochastic Optimizer: Maximum iterations (500) reached and the optimization hasn't converged yet.\n",
      "  warnings.warn(\n",
      "/opt/anaconda3/lib/python3.9/site-packages/sklearn/neural_network/_multilayer_perceptron.py:686: ConvergenceWarning: Stochastic Optimizer: Maximum iterations (500) reached and the optimization hasn't converged yet.\n",
      "  warnings.warn(\n",
      "/opt/anaconda3/lib/python3.9/site-packages/sklearn/neural_network/_multilayer_perceptron.py:686: ConvergenceWarning: Stochastic Optimizer: Maximum iterations (500) reached and the optimization hasn't converged yet.\n",
      "  warnings.warn(\n",
      "/opt/anaconda3/lib/python3.9/site-packages/sklearn/neural_network/_multilayer_perceptron.py:686: ConvergenceWarning: Stochastic Optimizer: Maximum iterations (500) reached and the optimization hasn't converged yet.\n",
      "  warnings.warn(\n",
      "/opt/anaconda3/lib/python3.9/site-packages/sklearn/neural_network/_multilayer_perceptron.py:686: ConvergenceWarning: Stochastic Optimizer: Maximum iterations (500) reached and the optimization hasn't converged yet.\n",
      "  warnings.warn(\n",
      "/opt/anaconda3/lib/python3.9/site-packages/sklearn/neural_network/_multilayer_perceptron.py:686: ConvergenceWarning: Stochastic Optimizer: Maximum iterations (500) reached and the optimization hasn't converged yet.\n",
      "  warnings.warn(\n",
      "/opt/anaconda3/lib/python3.9/site-packages/sklearn/neural_network/_multilayer_perceptron.py:686: ConvergenceWarning: Stochastic Optimizer: Maximum iterations (500) reached and the optimization hasn't converged yet.\n",
      "  warnings.warn(\n",
      "/opt/anaconda3/lib/python3.9/site-packages/sklearn/neural_network/_multilayer_perceptron.py:686: ConvergenceWarning: Stochastic Optimizer: Maximum iterations (500) reached and the optimization hasn't converged yet.\n",
      "  warnings.warn(\n",
      "/opt/anaconda3/lib/python3.9/site-packages/sklearn/neural_network/_multilayer_perceptron.py:686: ConvergenceWarning: Stochastic Optimizer: Maximum iterations (500) reached and the optimization hasn't converged yet.\n",
      "  warnings.warn(\n",
      "/opt/anaconda3/lib/python3.9/site-packages/sklearn/neural_network/_multilayer_perceptron.py:686: ConvergenceWarning: Stochastic Optimizer: Maximum iterations (500) reached and the optimization hasn't converged yet.\n",
      "  warnings.warn(\n",
      "/opt/anaconda3/lib/python3.9/site-packages/sklearn/neural_network/_multilayer_perceptron.py:686: ConvergenceWarning: Stochastic Optimizer: Maximum iterations (500) reached and the optimization hasn't converged yet.\n",
      "  warnings.warn(\n",
      "/opt/anaconda3/lib/python3.9/site-packages/sklearn/neural_network/_multilayer_perceptron.py:686: ConvergenceWarning: Stochastic Optimizer: Maximum iterations (500) reached and the optimization hasn't converged yet.\n",
      "  warnings.warn(\n",
      "/opt/anaconda3/lib/python3.9/site-packages/sklearn/neural_network/_multilayer_perceptron.py:686: ConvergenceWarning: Stochastic Optimizer: Maximum iterations (500) reached and the optimization hasn't converged yet.\n",
      "  warnings.warn(\n",
      "/opt/anaconda3/lib/python3.9/site-packages/sklearn/neural_network/_multilayer_perceptron.py:686: ConvergenceWarning: Stochastic Optimizer: Maximum iterations (500) reached and the optimization hasn't converged yet.\n",
      "  warnings.warn(\n",
      "/opt/anaconda3/lib/python3.9/site-packages/sklearn/neural_network/_multilayer_perceptron.py:686: ConvergenceWarning: Stochastic Optimizer: Maximum iterations (500) reached and the optimization hasn't converged yet.\n",
      "  warnings.warn(\n",
      "/opt/anaconda3/lib/python3.9/site-packages/sklearn/neural_network/_multilayer_perceptron.py:686: ConvergenceWarning: Stochastic Optimizer: Maximum iterations (500) reached and the optimization hasn't converged yet.\n",
      "  warnings.warn(\n",
      "/opt/anaconda3/lib/python3.9/site-packages/sklearn/neural_network/_multilayer_perceptron.py:686: ConvergenceWarning: Stochastic Optimizer: Maximum iterations (500) reached and the optimization hasn't converged yet.\n",
      "  warnings.warn(\n",
      "/opt/anaconda3/lib/python3.9/site-packages/sklearn/neural_network/_multilayer_perceptron.py:686: ConvergenceWarning: Stochastic Optimizer: Maximum iterations (500) reached and the optimization hasn't converged yet.\n",
      "  warnings.warn(\n",
      "/opt/anaconda3/lib/python3.9/site-packages/sklearn/neural_network/_multilayer_perceptron.py:686: ConvergenceWarning: Stochastic Optimizer: Maximum iterations (500) reached and the optimization hasn't converged yet.\n",
      "  warnings.warn(\n",
      "/opt/anaconda3/lib/python3.9/site-packages/sklearn/neural_network/_multilayer_perceptron.py:686: ConvergenceWarning: Stochastic Optimizer: Maximum iterations (500) reached and the optimization hasn't converged yet.\n",
      "  warnings.warn(\n",
      "/opt/anaconda3/lib/python3.9/site-packages/sklearn/neural_network/_multilayer_perceptron.py:686: ConvergenceWarning: Stochastic Optimizer: Maximum iterations (500) reached and the optimization hasn't converged yet.\n",
      "  warnings.warn(\n",
      "/opt/anaconda3/lib/python3.9/site-packages/sklearn/neural_network/_multilayer_perceptron.py:686: ConvergenceWarning: Stochastic Optimizer: Maximum iterations (500) reached and the optimization hasn't converged yet.\n",
      "  warnings.warn(\n",
      "/opt/anaconda3/lib/python3.9/site-packages/sklearn/neural_network/_multilayer_perceptron.py:686: ConvergenceWarning: Stochastic Optimizer: Maximum iterations (500) reached and the optimization hasn't converged yet.\n",
      "  warnings.warn(\n",
      "/opt/anaconda3/lib/python3.9/site-packages/sklearn/neural_network/_multilayer_perceptron.py:686: ConvergenceWarning: Stochastic Optimizer: Maximum iterations (500) reached and the optimization hasn't converged yet.\n",
      "  warnings.warn(\n",
      "/opt/anaconda3/lib/python3.9/site-packages/sklearn/neural_network/_multilayer_perceptron.py:686: ConvergenceWarning: Stochastic Optimizer: Maximum iterations (500) reached and the optimization hasn't converged yet.\n",
      "  warnings.warn(\n",
      "/opt/anaconda3/lib/python3.9/site-packages/sklearn/neural_network/_multilayer_perceptron.py:686: ConvergenceWarning: Stochastic Optimizer: Maximum iterations (500) reached and the optimization hasn't converged yet.\n",
      "  warnings.warn(\n",
      "/opt/anaconda3/lib/python3.9/site-packages/sklearn/neural_network/_multilayer_perceptron.py:686: ConvergenceWarning: Stochastic Optimizer: Maximum iterations (500) reached and the optimization hasn't converged yet.\n",
      "  warnings.warn(\n",
      "/opt/anaconda3/lib/python3.9/site-packages/sklearn/neural_network/_multilayer_perceptron.py:686: ConvergenceWarning: Stochastic Optimizer: Maximum iterations (500) reached and the optimization hasn't converged yet.\n",
      "  warnings.warn(\n",
      "/opt/anaconda3/lib/python3.9/site-packages/sklearn/neural_network/_multilayer_perceptron.py:686: ConvergenceWarning: Stochastic Optimizer: Maximum iterations (500) reached and the optimization hasn't converged yet.\n",
      "  warnings.warn(\n",
      "/opt/anaconda3/lib/python3.9/site-packages/sklearn/neural_network/_multilayer_perceptron.py:686: ConvergenceWarning: Stochastic Optimizer: Maximum iterations (500) reached and the optimization hasn't converged yet.\n",
      "  warnings.warn(\n",
      "/opt/anaconda3/lib/python3.9/site-packages/sklearn/neural_network/_multilayer_perceptron.py:686: ConvergenceWarning: Stochastic Optimizer: Maximum iterations (500) reached and the optimization hasn't converged yet.\n",
      "  warnings.warn(\n",
      "/opt/anaconda3/lib/python3.9/site-packages/sklearn/neural_network/_multilayer_perceptron.py:686: ConvergenceWarning: Stochastic Optimizer: Maximum iterations (500) reached and the optimization hasn't converged yet.\n",
      "  warnings.warn(\n",
      "/opt/anaconda3/lib/python3.9/site-packages/sklearn/neural_network/_multilayer_perceptron.py:686: ConvergenceWarning: Stochastic Optimizer: Maximum iterations (500) reached and the optimization hasn't converged yet.\n",
      "  warnings.warn(\n",
      "/opt/anaconda3/lib/python3.9/site-packages/sklearn/neural_network/_multilayer_perceptron.py:686: ConvergenceWarning: Stochastic Optimizer: Maximum iterations (500) reached and the optimization hasn't converged yet.\n",
      "  warnings.warn(\n",
      "/opt/anaconda3/lib/python3.9/site-packages/sklearn/neural_network/_multilayer_perceptron.py:686: ConvergenceWarning: Stochastic Optimizer: Maximum iterations (500) reached and the optimization hasn't converged yet.\n",
      "  warnings.warn(\n"
     ]
    },
    {
     "name": "stderr",
     "output_type": "stream",
     "text": [
      "/opt/anaconda3/lib/python3.9/site-packages/sklearn/neural_network/_multilayer_perceptron.py:686: ConvergenceWarning: Stochastic Optimizer: Maximum iterations (500) reached and the optimization hasn't converged yet.\n",
      "  warnings.warn(\n",
      "/opt/anaconda3/lib/python3.9/site-packages/sklearn/neural_network/_multilayer_perceptron.py:686: ConvergenceWarning: Stochastic Optimizer: Maximum iterations (500) reached and the optimization hasn't converged yet.\n",
      "  warnings.warn(\n",
      "/opt/anaconda3/lib/python3.9/site-packages/sklearn/neural_network/_multilayer_perceptron.py:686: ConvergenceWarning: Stochastic Optimizer: Maximum iterations (500) reached and the optimization hasn't converged yet.\n",
      "  warnings.warn(\n",
      "/opt/anaconda3/lib/python3.9/site-packages/sklearn/neural_network/_multilayer_perceptron.py:686: ConvergenceWarning: Stochastic Optimizer: Maximum iterations (500) reached and the optimization hasn't converged yet.\n",
      "  warnings.warn(\n",
      "/opt/anaconda3/lib/python3.9/site-packages/sklearn/neural_network/_multilayer_perceptron.py:686: ConvergenceWarning: Stochastic Optimizer: Maximum iterations (500) reached and the optimization hasn't converged yet.\n",
      "  warnings.warn(\n",
      "/opt/anaconda3/lib/python3.9/site-packages/sklearn/neural_network/_multilayer_perceptron.py:686: ConvergenceWarning: Stochastic Optimizer: Maximum iterations (500) reached and the optimization hasn't converged yet.\n",
      "  warnings.warn(\n",
      "/opt/anaconda3/lib/python3.9/site-packages/sklearn/neural_network/_multilayer_perceptron.py:686: ConvergenceWarning: Stochastic Optimizer: Maximum iterations (500) reached and the optimization hasn't converged yet.\n",
      "  warnings.warn(\n",
      "/opt/anaconda3/lib/python3.9/site-packages/sklearn/neural_network/_multilayer_perceptron.py:686: ConvergenceWarning: Stochastic Optimizer: Maximum iterations (500) reached and the optimization hasn't converged yet.\n",
      "  warnings.warn(\n",
      "/opt/anaconda3/lib/python3.9/site-packages/sklearn/neural_network/_multilayer_perceptron.py:686: ConvergenceWarning: Stochastic Optimizer: Maximum iterations (500) reached and the optimization hasn't converged yet.\n",
      "  warnings.warn(\n",
      "/opt/anaconda3/lib/python3.9/site-packages/sklearn/neural_network/_multilayer_perceptron.py:686: ConvergenceWarning: Stochastic Optimizer: Maximum iterations (500) reached and the optimization hasn't converged yet.\n",
      "  warnings.warn(\n",
      "/opt/anaconda3/lib/python3.9/site-packages/sklearn/neural_network/_multilayer_perceptron.py:686: ConvergenceWarning: Stochastic Optimizer: Maximum iterations (500) reached and the optimization hasn't converged yet.\n",
      "  warnings.warn(\n",
      "/opt/anaconda3/lib/python3.9/site-packages/sklearn/neural_network/_multilayer_perceptron.py:686: ConvergenceWarning: Stochastic Optimizer: Maximum iterations (500) reached and the optimization hasn't converged yet.\n",
      "  warnings.warn(\n",
      "/opt/anaconda3/lib/python3.9/site-packages/sklearn/neural_network/_multilayer_perceptron.py:686: ConvergenceWarning: Stochastic Optimizer: Maximum iterations (500) reached and the optimization hasn't converged yet.\n",
      "  warnings.warn(\n",
      "/opt/anaconda3/lib/python3.9/site-packages/sklearn/neural_network/_multilayer_perceptron.py:686: ConvergenceWarning: Stochastic Optimizer: Maximum iterations (500) reached and the optimization hasn't converged yet.\n",
      "  warnings.warn(\n",
      "/opt/anaconda3/lib/python3.9/site-packages/sklearn/neural_network/_multilayer_perceptron.py:686: ConvergenceWarning: Stochastic Optimizer: Maximum iterations (500) reached and the optimization hasn't converged yet.\n",
      "  warnings.warn(\n",
      "/opt/anaconda3/lib/python3.9/site-packages/sklearn/neural_network/_multilayer_perceptron.py:686: ConvergenceWarning: Stochastic Optimizer: Maximum iterations (500) reached and the optimization hasn't converged yet.\n",
      "  warnings.warn(\n",
      "/opt/anaconda3/lib/python3.9/site-packages/sklearn/neural_network/_multilayer_perceptron.py:686: ConvergenceWarning: Stochastic Optimizer: Maximum iterations (500) reached and the optimization hasn't converged yet.\n",
      "  warnings.warn(\n",
      "/opt/anaconda3/lib/python3.9/site-packages/sklearn/neural_network/_multilayer_perceptron.py:686: ConvergenceWarning: Stochastic Optimizer: Maximum iterations (500) reached and the optimization hasn't converged yet.\n",
      "  warnings.warn(\n",
      "/opt/anaconda3/lib/python3.9/site-packages/sklearn/neural_network/_multilayer_perceptron.py:686: ConvergenceWarning: Stochastic Optimizer: Maximum iterations (500) reached and the optimization hasn't converged yet.\n",
      "  warnings.warn(\n",
      "/opt/anaconda3/lib/python3.9/site-packages/sklearn/neural_network/_multilayer_perceptron.py:686: ConvergenceWarning: Stochastic Optimizer: Maximum iterations (500) reached and the optimization hasn't converged yet.\n",
      "  warnings.warn(\n",
      "/opt/anaconda3/lib/python3.9/site-packages/sklearn/neural_network/_multilayer_perceptron.py:686: ConvergenceWarning: Stochastic Optimizer: Maximum iterations (500) reached and the optimization hasn't converged yet.\n",
      "  warnings.warn(\n",
      "/opt/anaconda3/lib/python3.9/site-packages/sklearn/neural_network/_multilayer_perceptron.py:686: ConvergenceWarning: Stochastic Optimizer: Maximum iterations (500) reached and the optimization hasn't converged yet.\n",
      "  warnings.warn(\n",
      "/opt/anaconda3/lib/python3.9/site-packages/sklearn/neural_network/_multilayer_perceptron.py:686: ConvergenceWarning: Stochastic Optimizer: Maximum iterations (500) reached and the optimization hasn't converged yet.\n",
      "  warnings.warn(\n",
      "/opt/anaconda3/lib/python3.9/site-packages/sklearn/neural_network/_multilayer_perceptron.py:686: ConvergenceWarning: Stochastic Optimizer: Maximum iterations (500) reached and the optimization hasn't converged yet.\n",
      "  warnings.warn(\n",
      "/opt/anaconda3/lib/python3.9/site-packages/sklearn/neural_network/_multilayer_perceptron.py:686: ConvergenceWarning: Stochastic Optimizer: Maximum iterations (500) reached and the optimization hasn't converged yet.\n",
      "  warnings.warn(\n",
      "/opt/anaconda3/lib/python3.9/site-packages/sklearn/neural_network/_multilayer_perceptron.py:686: ConvergenceWarning: Stochastic Optimizer: Maximum iterations (500) reached and the optimization hasn't converged yet.\n",
      "  warnings.warn(\n",
      "/opt/anaconda3/lib/python3.9/site-packages/sklearn/neural_network/_multilayer_perceptron.py:686: ConvergenceWarning: Stochastic Optimizer: Maximum iterations (500) reached and the optimization hasn't converged yet.\n",
      "  warnings.warn(\n",
      "/opt/anaconda3/lib/python3.9/site-packages/sklearn/neural_network/_multilayer_perceptron.py:686: ConvergenceWarning: Stochastic Optimizer: Maximum iterations (500) reached and the optimization hasn't converged yet.\n",
      "  warnings.warn(\n",
      "/opt/anaconda3/lib/python3.9/site-packages/sklearn/neural_network/_multilayer_perceptron.py:686: ConvergenceWarning: Stochastic Optimizer: Maximum iterations (500) reached and the optimization hasn't converged yet.\n",
      "  warnings.warn(\n",
      "/opt/anaconda3/lib/python3.9/site-packages/sklearn/neural_network/_multilayer_perceptron.py:686: ConvergenceWarning: Stochastic Optimizer: Maximum iterations (500) reached and the optimization hasn't converged yet.\n",
      "  warnings.warn(\n",
      "/opt/anaconda3/lib/python3.9/site-packages/sklearn/neural_network/_multilayer_perceptron.py:686: ConvergenceWarning: Stochastic Optimizer: Maximum iterations (500) reached and the optimization hasn't converged yet.\n",
      "  warnings.warn(\n",
      "/opt/anaconda3/lib/python3.9/site-packages/sklearn/neural_network/_multilayer_perceptron.py:686: ConvergenceWarning: Stochastic Optimizer: Maximum iterations (500) reached and the optimization hasn't converged yet.\n",
      "  warnings.warn(\n",
      "/opt/anaconda3/lib/python3.9/site-packages/sklearn/neural_network/_multilayer_perceptron.py:686: ConvergenceWarning: Stochastic Optimizer: Maximum iterations (500) reached and the optimization hasn't converged yet.\n",
      "  warnings.warn(\n",
      "/opt/anaconda3/lib/python3.9/site-packages/sklearn/neural_network/_multilayer_perceptron.py:686: ConvergenceWarning: Stochastic Optimizer: Maximum iterations (500) reached and the optimization hasn't converged yet.\n",
      "  warnings.warn(\n",
      "/opt/anaconda3/lib/python3.9/site-packages/sklearn/neural_network/_multilayer_perceptron.py:686: ConvergenceWarning: Stochastic Optimizer: Maximum iterations (500) reached and the optimization hasn't converged yet.\n",
      "  warnings.warn(\n",
      "/opt/anaconda3/lib/python3.9/site-packages/sklearn/neural_network/_multilayer_perceptron.py:686: ConvergenceWarning: Stochastic Optimizer: Maximum iterations (500) reached and the optimization hasn't converged yet.\n",
      "  warnings.warn(\n"
     ]
    },
    {
     "name": "stderr",
     "output_type": "stream",
     "text": [
      "/opt/anaconda3/lib/python3.9/site-packages/sklearn/neural_network/_multilayer_perceptron.py:686: ConvergenceWarning: Stochastic Optimizer: Maximum iterations (500) reached and the optimization hasn't converged yet.\n",
      "  warnings.warn(\n",
      "/opt/anaconda3/lib/python3.9/site-packages/sklearn/neural_network/_multilayer_perceptron.py:686: ConvergenceWarning: Stochastic Optimizer: Maximum iterations (500) reached and the optimization hasn't converged yet.\n",
      "  warnings.warn(\n",
      "/opt/anaconda3/lib/python3.9/site-packages/sklearn/neural_network/_multilayer_perceptron.py:686: ConvergenceWarning: Stochastic Optimizer: Maximum iterations (500) reached and the optimization hasn't converged yet.\n",
      "  warnings.warn(\n",
      "/opt/anaconda3/lib/python3.9/site-packages/sklearn/neural_network/_multilayer_perceptron.py:686: ConvergenceWarning: Stochastic Optimizer: Maximum iterations (500) reached and the optimization hasn't converged yet.\n",
      "  warnings.warn(\n",
      "/opt/anaconda3/lib/python3.9/site-packages/sklearn/neural_network/_multilayer_perceptron.py:686: ConvergenceWarning: Stochastic Optimizer: Maximum iterations (500) reached and the optimization hasn't converged yet.\n",
      "  warnings.warn(\n",
      "/opt/anaconda3/lib/python3.9/site-packages/sklearn/neural_network/_multilayer_perceptron.py:686: ConvergenceWarning: Stochastic Optimizer: Maximum iterations (500) reached and the optimization hasn't converged yet.\n",
      "  warnings.warn(\n",
      "/opt/anaconda3/lib/python3.9/site-packages/sklearn/neural_network/_multilayer_perceptron.py:686: ConvergenceWarning: Stochastic Optimizer: Maximum iterations (500) reached and the optimization hasn't converged yet.\n",
      "  warnings.warn(\n",
      "/opt/anaconda3/lib/python3.9/site-packages/sklearn/neural_network/_multilayer_perceptron.py:686: ConvergenceWarning: Stochastic Optimizer: Maximum iterations (500) reached and the optimization hasn't converged yet.\n",
      "  warnings.warn(\n",
      "/opt/anaconda3/lib/python3.9/site-packages/sklearn/neural_network/_multilayer_perceptron.py:686: ConvergenceWarning: Stochastic Optimizer: Maximum iterations (500) reached and the optimization hasn't converged yet.\n",
      "  warnings.warn(\n",
      "/opt/anaconda3/lib/python3.9/site-packages/sklearn/neural_network/_multilayer_perceptron.py:686: ConvergenceWarning: Stochastic Optimizer: Maximum iterations (500) reached and the optimization hasn't converged yet.\n",
      "  warnings.warn(\n",
      "/opt/anaconda3/lib/python3.9/site-packages/sklearn/neural_network/_multilayer_perceptron.py:686: ConvergenceWarning: Stochastic Optimizer: Maximum iterations (500) reached and the optimization hasn't converged yet.\n",
      "  warnings.warn(\n",
      "/opt/anaconda3/lib/python3.9/site-packages/sklearn/neural_network/_multilayer_perceptron.py:686: ConvergenceWarning: Stochastic Optimizer: Maximum iterations (500) reached and the optimization hasn't converged yet.\n",
      "  warnings.warn(\n",
      "/opt/anaconda3/lib/python3.9/site-packages/sklearn/neural_network/_multilayer_perceptron.py:686: ConvergenceWarning: Stochastic Optimizer: Maximum iterations (500) reached and the optimization hasn't converged yet.\n",
      "  warnings.warn(\n",
      "/opt/anaconda3/lib/python3.9/site-packages/sklearn/neural_network/_multilayer_perceptron.py:686: ConvergenceWarning: Stochastic Optimizer: Maximum iterations (500) reached and the optimization hasn't converged yet.\n",
      "  warnings.warn(\n",
      "/opt/anaconda3/lib/python3.9/site-packages/sklearn/neural_network/_multilayer_perceptron.py:686: ConvergenceWarning: Stochastic Optimizer: Maximum iterations (500) reached and the optimization hasn't converged yet.\n",
      "  warnings.warn(\n",
      "/opt/anaconda3/lib/python3.9/site-packages/sklearn/neural_network/_multilayer_perceptron.py:686: ConvergenceWarning: Stochastic Optimizer: Maximum iterations (500) reached and the optimization hasn't converged yet.\n",
      "  warnings.warn(\n",
      "/opt/anaconda3/lib/python3.9/site-packages/sklearn/neural_network/_multilayer_perceptron.py:686: ConvergenceWarning: Stochastic Optimizer: Maximum iterations (500) reached and the optimization hasn't converged yet.\n",
      "  warnings.warn(\n",
      "/opt/anaconda3/lib/python3.9/site-packages/sklearn/neural_network/_multilayer_perceptron.py:686: ConvergenceWarning: Stochastic Optimizer: Maximum iterations (500) reached and the optimization hasn't converged yet.\n",
      "  warnings.warn(\n",
      "/opt/anaconda3/lib/python3.9/site-packages/sklearn/neural_network/_multilayer_perceptron.py:686: ConvergenceWarning: Stochastic Optimizer: Maximum iterations (500) reached and the optimization hasn't converged yet.\n",
      "  warnings.warn(\n",
      "/opt/anaconda3/lib/python3.9/site-packages/sklearn/neural_network/_multilayer_perceptron.py:686: ConvergenceWarning: Stochastic Optimizer: Maximum iterations (500) reached and the optimization hasn't converged yet.\n",
      "  warnings.warn(\n",
      "/opt/anaconda3/lib/python3.9/site-packages/sklearn/neural_network/_multilayer_perceptron.py:686: ConvergenceWarning: Stochastic Optimizer: Maximum iterations (500) reached and the optimization hasn't converged yet.\n",
      "  warnings.warn(\n",
      "/opt/anaconda3/lib/python3.9/site-packages/sklearn/neural_network/_multilayer_perceptron.py:686: ConvergenceWarning: Stochastic Optimizer: Maximum iterations (500) reached and the optimization hasn't converged yet.\n",
      "  warnings.warn(\n",
      "/opt/anaconda3/lib/python3.9/site-packages/sklearn/neural_network/_multilayer_perceptron.py:686: ConvergenceWarning: Stochastic Optimizer: Maximum iterations (500) reached and the optimization hasn't converged yet.\n",
      "  warnings.warn(\n",
      "/opt/anaconda3/lib/python3.9/site-packages/sklearn/neural_network/_multilayer_perceptron.py:686: ConvergenceWarning: Stochastic Optimizer: Maximum iterations (500) reached and the optimization hasn't converged yet.\n",
      "  warnings.warn(\n",
      "/opt/anaconda3/lib/python3.9/site-packages/sklearn/neural_network/_multilayer_perceptron.py:686: ConvergenceWarning: Stochastic Optimizer: Maximum iterations (500) reached and the optimization hasn't converged yet.\n",
      "  warnings.warn(\n"
     ]
    },
    {
     "name": "stdout",
     "output_type": "stream",
     "text": [
      "[0.830744071954211, 0.8331970564186427, 0.8421913327882257, 0.8397383483237939, 0.8323793949304987, 0.8364677023712184, 0.83892068683565, 0.8233851185609158, 0.8372853638593623, 0.8454619787408013, 0.8323793949304987, 0.8413736713000818, 0.8421913327882257, 0.8364677023712184, 0.8372853638593623, 0.8372853638593623, 0.8446443172526574, 0.8397383483237939, 0.8364677023712184, 0.8421913327882257, 0.8421913327882257, 0.8421913327882257, 0.8413736713000818, 0.8405560098119379, 0.8323793949304987, 0.8356500408830744, 0.8454619787408013, 0.8430089942763695, 0.83892068683565, 0.8331970564186427, 0.8356500408830744, 0.8397383483237939, 0.8356500408830744, 0.8381030253475061, 0.8340147179067866, 0.8438266557645135, 0.8372853638593623, 0.8340147179067866, 0.8462796402289452, 0.8340147179067866, 0.8242027800490597, 0.8356500408830744, 0.8364677023712184, 0.8176614881439084, 0.8405560098119379, 0.83892068683565, 0.8454619787408013, 0.8430089942763695, 0.8421913327882257, 0.8528209321340965, 0.8413736713000818, 0.83892068683565, 0.8372853638593623, 0.83892068683565, 0.8364677023712184, 0.8552739165985282, 0.8340147179067866, 0.8356500408830744, 0.8397383483237939, 0.8462796402289452, 0.8462796402289452, 0.8299264104660671, 0.8397383483237939, 0.8250204415372036, 0.8315617334423548, 0.8462796402289452, 0.8299264104660671, 0.8397383483237939, 0.8470973017170891, 0.8348323793949305, 0.8348323793949305, 0.8397383483237939, 0.8413736713000818, 0.8348323793949305, 0.8381030253475061, 0.8405560098119379, 0.8299264104660671, 0.8397383483237939, 0.8356500408830744, 0.8356500408830744, 0.8340147179067866, 0.8348323793949305, 0.8299264104660671, 0.83892068683565, 0.8397383483237939, 0.8381030253475061, 0.8331970564186427, 0.8430089942763695, 0.83892068683565, 0.8266557645134914, 0.830744071954211, 0.8454619787408013, 0.83892068683565, 0.8331970564186427, 0.8454619787408013, 0.8340147179067866, 0.8364677023712184, 0.8495502861815208, 0.83892068683565, 0.8356500408830744]\n"
     ]
    },
    {
     "name": "stderr",
     "output_type": "stream",
     "text": [
      "/opt/anaconda3/lib/python3.9/site-packages/sklearn/neural_network/_multilayer_perceptron.py:686: ConvergenceWarning: Stochastic Optimizer: Maximum iterations (500) reached and the optimization hasn't converged yet.\n",
      "  warnings.warn(\n"
     ]
    }
   ],
   "source": [
    "score_list = []\n",
    "# Load saved arrays\n",
    "x_train = np.load('x_train.npy')\n",
    "x_test = np.load('x_test.npy')\n",
    "y_train = np.load('y_train.npy')\n",
    "y_test = np.load('y_test.npy')\n",
    "\n",
    "for random_state in range(100):\n",
    "    clf = MLPClassifier(max_iter = 500, random_state=random_state)\n",
    "\n",
    "    # train the model\n",
    "    clf.fit(x_train, y_train)\n",
    "\n",
    "    # evaluate Classifier\n",
    "#     print(clf.score(x_test, y_test))\n",
    "    score_list.append(clf.score(x_test, y_test))\n",
    "    \n",
    "print(score_list)"
   ]
  },
  {
   "cell_type": "code",
   "execution_count": 32,
   "id": "284fb118",
   "metadata": {},
   "outputs": [
    {
     "name": "stdout",
     "output_type": "stream",
     "text": [
      "0.8379067865903517\n",
      "0.005958413210488855\n"
     ]
    }
   ],
   "source": [
    "print(np.mean(score_list))\n",
    "print(np.std(score_list))"
   ]
  },
  {
   "cell_type": "code",
   "execution_count": 15,
   "id": "66661e8f",
   "metadata": {},
   "outputs": [],
   "source": [
    "def DSD_calculator(adjacency, walk_length, restart_p):\n",
    "    \"\"\"\n",
    "    adjacency - adjacency matrix represented as a numpy array\n",
    "                assumes graph is fully connected.\n",
    "    walk_length - the length of random walks used to calculate DSD\n",
    "                  if walk_length = -1, then calculate DSD at convergence\n",
    "    restart_p - the restart probability\n",
    "        if p = 0, then it's a traditional random walk\n",
    "    returns DSD matrix represented as a numpy array\n",
    "    \"\"\"\n",
    "    adjacency = np.asmatrix(adjacency)\n",
    "    n = adjacency.shape[0]\n",
    "    degree = adjacency.sum(axis=1)\n",
    "    p = adjacency / degree\n",
    "    if walk_length >= 0:\n",
    "        c = np.eye(n)\n",
    "        for i in range(walk_length):\n",
    "            c = (1 - restart_p) * np.dot(c, p) + restart_p * np.eye(n)\n",
    "        return squareform(pdist(c,metric='cityblock'))\n",
    "    else:\n",
    "        pi = degree / degree.sum()\n",
    "        return squareform(pdist(inv(np.eye(n) - p - pi.T),metric='cityblock'))"
   ]
  },
  {
   "cell_type": "code",
   "execution_count": 38,
   "id": "1aed9ba9",
   "metadata": {},
   "outputs": [
    {
     "name": "stdout",
     "output_type": "stream",
     "text": [
      "[[0. 2. 3.]\n",
      " [1. 0. 3.]\n",
      " [3. 4. 0.]]\n",
      "[[0. 3. 8.]\n",
      " [3. 0. 9.]\n",
      " [8. 9. 0.]]\n"
     ]
    }
   ],
   "source": [
    "X = np.array([[0.0,2,3], [1,0,3], [3,4,0]])\n",
    "print(X)\n",
    "dist_matrix = pdist(X, metric = 'cityblock')\n",
    "# dist_matrix = pdist(X)\n",
    "# print(dist_matrix)\n",
    "print(squareform(dist_matrix))"
   ]
  },
  {
   "cell_type": "code",
   "execution_count": null,
   "id": "cba29098",
   "metadata": {},
   "outputs": [],
   "source": []
  }
 ],
 "metadata": {
  "kernelspec": {
   "display_name": "Python 3 (ipykernel)",
   "language": "python",
   "name": "python3"
  },
  "language_info": {
   "codemirror_mode": {
    "name": "ipython",
    "version": 3
   },
   "file_extension": ".py",
   "mimetype": "text/x-python",
   "name": "python",
   "nbconvert_exporter": "python",
   "pygments_lexer": "ipython3",
   "version": "3.9.18"
  }
 },
 "nbformat": 4,
 "nbformat_minor": 5
}
