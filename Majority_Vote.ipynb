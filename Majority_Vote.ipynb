{
 "cells": [
  {
   "cell_type": "code",
   "execution_count": 1,
   "id": "92d6b237",
   "metadata": {},
   "outputs": [
    {
     "name": "stdout",
     "output_type": "stream",
     "text": [
      "Intel MKL WARNING: Support of Intel(R) Streaming SIMD Extensions 4.2 (Intel(R) SSE4.2) enabled only processors has been deprecated. Intel oneAPI Math Kernel Library 2025.0 will require Intel(R) Advanced Vector Extensions (Intel(R) AVX) instructions.\n",
      "Intel MKL WARNING: Support of Intel(R) Streaming SIMD Extensions 4.2 (Intel(R) SSE4.2) enabled only processors has been deprecated. Intel oneAPI Math Kernel Library 2025.0 will require Intel(R) Advanced Vector Extensions (Intel(R) AVX) instructions.\n"
     ]
    }
   ],
   "source": [
    "import networkx as nx\n",
    "import numpy as np\n",
    "import pandas as pd\n",
    "import json\n",
    "from scipy.spatial.distance import pdist, squareform\n",
    "from numpy.linalg import inv\n",
    "import matplotlib.pyplot as plt\n",
    "import math\n",
    "import random\n",
    "import pickle"
   ]
  },
  {
   "cell_type": "markdown",
   "id": "706eff87",
   "metadata": {},
   "source": [
    "# Supporting functions"
   ]
  },
  {
   "cell_type": "code",
   "execution_count": 8,
   "id": "7a183c08",
   "metadata": {},
   "outputs": [],
   "source": [
    "def DSD_calculator(adjacency, walk_length, restart_p):\n",
    "    \"\"\"\n",
    "    adjacency - adjacency matrix represented as a numpy array\n",
    "                assumes graph is fully connected.\n",
    "    walk_length - the length of random walks used to calculate DSD\n",
    "                  if walk_length = -1, then calculate DSD at convergence\n",
    "    restart_p - the restart probability\n",
    "        if p = 0, then it's a traditional random walk\n",
    "    returns DSD matrix represented as a numpy array\n",
    "    \"\"\"\n",
    "    # Normalization of the Adjacency Matrix\n",
    "    adjacency = np.asmatrix(adjacency)\n",
    "    n = adjacency.shape[0]\n",
    "    degree = adjacency.sum(axis=1)\n",
    "    p = adjacency / degree\n",
    "    \n",
    "    # random walk\n",
    "    if walk_length >= 0:\n",
    "        c = np.eye(n)\n",
    "        for i in range(walk_length):\n",
    "            c = (1 - restart_p) * np.dot(c, p) + restart_p * np.eye(n)\n",
    "        return squareform(pdist(c,metric='cityblock'))\n",
    "    else:\n",
    "        pi = degree / degree.sum()\n",
    "        return squareform(pdist(inv(np.eye(n) - p - pi.T),metric='cityblock'))"
   ]
  },
  {
   "cell_type": "markdown",
   "id": "57b9374d",
   "metadata": {},
   "source": [
    "# Graph Construction"
   ]
  },
  {
   "cell_type": "code",
   "execution_count": 3,
   "id": "0b369c5e",
   "metadata": {},
   "outputs": [],
   "source": [
    "edges_df = pd.read_csv(\"data/git_web_ml/musae_git_edges.csv\")\n",
    "nodes_df = pd.read_csv(\"data/git_web_ml/musae_git_target.csv\")"
   ]
  },
  {
   "cell_type": "code",
   "execution_count": 4,
   "id": "d935a1d2",
   "metadata": {},
   "outputs": [],
   "source": [
    "# G_github = nx.from_pandas_edgelist(edges_df, source=\"id_1\", target='id_2')\n",
    "# print('-----------------------')\n",
    "# print('Original Graph:')\n",
    "# print(G_github)\n",
    "# # print(nx.info(G_github))\n",
    "# pickle.dump(G_github,open('graph.pickleall','wb'))\n",
    "\n",
    "# sample_num = 10000\n",
    "# sample_nodes = random.choices(list(G_github.nodes()), k=sample_num)\n",
    "# G = G_github.subgraph(sample_nodes)\n",
    "# print('-----------------------')\n",
    "# print('Picked graph with 3000 nodes:')\n",
    "# print(G)\n",
    "# # print(nx.info(G))\n",
    "# largest_cc = max(nx.connected_components(G), key=len)\n",
    "# G = G.subgraph(largest_cc)\n",
    "# print('-----------------------')\n",
    "# print('Fully Connected smaller graph:')\n",
    "# print(G)\n",
    "# # print(nx.info(G))\n",
    "# pickle.dump(G,open('graph.pickle10k','wb'))"
   ]
  },
  {
   "cell_type": "code",
   "execution_count": 5,
   "id": "24c11906",
   "metadata": {},
   "outputs": [
    {
     "name": "stdout",
     "output_type": "stream",
     "text": [
      "Graph with 6123 nodes and 16591 edges\n",
      "0.0008852072746100134\n"
     ]
    }
   ],
   "source": [
    "G = pickle.load(open('graph.pickle10k', 'rb'))\n",
    "print(G)\n",
    "print(nx.density(G))"
   ]
  },
  {
   "cell_type": "markdown",
   "id": "f5b4fbb2",
   "metadata": {},
   "source": [
    "# Majority Voting"
   ]
  },
  {
   "cell_type": "code",
   "execution_count": 6,
   "id": "a45d883e",
   "metadata": {},
   "outputs": [
    {
     "name": "stdout",
     "output_type": "stream",
     "text": [
      "accuracy =  0.8188796341662584\n"
     ]
    }
   ],
   "source": [
    "# traditional majority voting algorithm\n",
    "positive_vote = 0\n",
    "for i in list(G.nodes()):\n",
    "    vote_0 = 0\n",
    "    vote_1 = 0\n",
    "    final_vote = 0\n",
    "\n",
    "    for n in G.neighbors(i):\n",
    "        label = nodes_df['ml_target'][n]\n",
    "        weight = G.degree(n)\n",
    "\n",
    "        if weight == 0:\n",
    "            vote = 0\n",
    "        else:\n",
    "            vote = 1.0 / weight\n",
    "\n",
    "\n",
    "        if label == 0:\n",
    "            vote_0 = vote_0 + vote\n",
    "        else:\n",
    "            vote_1 = vote_1 + vote\n",
    "\n",
    "    if vote_0 > vote_1:\n",
    "        final_vote = 0\n",
    "    else: \n",
    "        final_vote = 1\n",
    "\n",
    "    if nodes_df['ml_target'][i] == final_vote:\n",
    "        positive_vote = positive_vote + 1\n",
    "\n",
    "print(\"accuracy = \", positive_vote / len(list(G.nodes())))   "
   ]
  },
  {
   "cell_type": "code",
   "execution_count": 15,
   "id": "22e70ddb",
   "metadata": {},
   "outputs": [
    {
     "name": "stdout",
     "output_type": "stream",
     "text": [
      "walk length is 50\n"
     ]
    }
   ],
   "source": [
    "# # Calculate DSD\n",
    "# edges = nx.to_numpy_array(G)\n",
    "# # diameter = nx.diameter(G)\n",
    "# # print(\"walk length is\", 5 * diameter)\n",
    "# DSD = DSD_calculator(edges, -1, 0)\n",
    "# np.save(\"DSD.npy\", DSD)"
   ]
  },
  {
   "cell_type": "code",
   "execution_count": 31,
   "id": "1eda76d1",
   "metadata": {},
   "outputs": [
    {
     "name": "stdout",
     "output_type": "stream",
     "text": [
      "[[ 0.         14.46746307 15.53028767 ... 14.26510445 14.649793\n",
      "  12.27262988]\n",
      " [14.46746307  0.         12.36110381 ... 17.5975529  18.61499113\n",
      "  12.10867964]\n",
      " [15.53028767 12.36110381  0.         ... 17.36199121 18.26076509\n",
      "  12.88720028]\n",
      " ...\n",
      " [14.26510445 17.5975529  17.36199121 ...  0.         12.28892266\n",
      "  14.88334338]\n",
      " [14.649793   18.61499113 18.26076509 ... 12.28892266  0.\n",
      "  15.39131094]\n",
      " [12.27262988 12.10867964 12.88720028 ... 14.88334338 15.39131094\n",
      "   0.        ]]\n"
     ]
    }
   ],
   "source": [
    "DSD = np.load(\"DSD.npy\")\n",
    "print(DSD)"
   ]
  },
  {
   "cell_type": "code",
   "execution_count": 35,
   "id": "5501b530",
   "metadata": {},
   "outputs": [
    {
     "name": "stdout",
     "output_type": "stream",
     "text": [
      "accuracy =  0.8272088845337253\n"
     ]
    }
   ],
   "source": [
    "# majority voting based on DSD \n",
    "positive_vote = 0\n",
    "rows = len(DSD)\n",
    "\n",
    "for i in range(rows):\n",
    "    index_i = list(G.nodes())[i]\n",
    "    vote_0 = 0\n",
    "    vote_1 = 0\n",
    "    degree_i = G.degree(index_i)\n",
    "    \n",
    "    t = G.degree(index_i)\n",
    "    \n",
    "    index_j_list = sorted(range(len(DSD[i])), key=lambda n: DSD[i][n])[:t]\n",
    "    \n",
    "    DSD_normalized = DSD[i][index_j_list]\n",
    "    \n",
    "    for j in range(len(index_j_list)):\n",
    "        index_j = list(G.nodes())[j]\n",
    "        label = nodes_df['ml_target'][index_j]\n",
    "        degree_j = G.degree(index_j)\n",
    "        \n",
    "        if DSD_normalized[j] == 0:\n",
    "            vote = 0\n",
    "        else:\n",
    "            vote = 1.0 / DSD_normalized[j]\n",
    "        \n",
    "        \n",
    "        if label == 0:\n",
    "            vote_0 = vote_0 + vote\n",
    "        else:\n",
    "            vote_1 = vote_1 + vote\n",
    "            \n",
    "    for n in G.neighbors(index_i):\n",
    "        label = nodes_df['ml_target'][n]\n",
    "        weight = G.degree(n)\n",
    "\n",
    "        if weight == 0:\n",
    "            vote = 0\n",
    "        else:\n",
    "            vote = 1.0 / weight\n",
    "\n",
    "\n",
    "        if label == 0:\n",
    "            vote_0 = vote_0 + vote\n",
    "        else:\n",
    "            vote_1 = vote_1 + vote\n",
    "    \n",
    "    if vote_0 > vote_1:\n",
    "        final_vote = 0\n",
    "    else:\n",
    "        final_vote = 1\n",
    "        \n",
    "    if nodes_df['ml_target'][index_i] == final_vote:\n",
    "        positive_vote = positive_vote + 1\n",
    "    \n",
    "print(\"accuracy = \", positive_vote / len(list(G.nodes())))"
   ]
  },
  {
   "cell_type": "code",
   "execution_count": 36,
   "id": "09df9f8f",
   "metadata": {},
   "outputs": [
    {
     "name": "stdout",
     "output_type": "stream",
     "text": [
      "accuracy =  0.6413522782949534\n"
     ]
    }
   ],
   "source": [
    "# majority voting based on DSD \n",
    "positive_vote = 0\n",
    "rows = len(DSD)\n",
    "\n",
    "for i in range(rows):\n",
    "    index_i = list(G.nodes())[i]\n",
    "    vote_0 = 0\n",
    "    vote_1 = 0\n",
    "    degree_i = G.degree(index_i)\n",
    "    \n",
    "    t = G.degree(index_i)\n",
    "    \n",
    "    index_j_list = sorted(range(len(DSD[i])), key=lambda n: DSD[i][n])[:t]   \n",
    "    DSD_normalized = DSD[i][index_j_list]\n",
    "    \n",
    "    for j in range(len(index_j_list)):\n",
    "        index_j = list(G.nodes())[j]\n",
    "        label = nodes_df['ml_target'][index_j]\n",
    "        degree_j = G.degree(index_j)\n",
    "        \n",
    "        if DSD_normalized[j] == 0:\n",
    "            vote = 0\n",
    "        else:\n",
    "            vote = 1.0 / DSD_normalized[j]\n",
    "        \n",
    "        \n",
    "        if label == 0:\n",
    "            vote_0 = vote_0 + vote\n",
    "        else:\n",
    "            vote_1 = vote_1 + vote\n",
    "            \n",
    "    \n",
    "    if vote_0 > vote_1:\n",
    "        final_vote = 0\n",
    "    else:\n",
    "        final_vote = 1\n",
    "        \n",
    "    if nodes_df['ml_target'][index_i] == final_vote:\n",
    "        positive_vote = positive_vote + 1\n",
    "    \n",
    "print(\"accuracy = \", positive_vote / len(list(G.nodes())))"
   ]
  },
  {
   "cell_type": "code",
   "execution_count": null,
   "id": "0c1bf910",
   "metadata": {},
   "outputs": [],
   "source": []
  }
 ],
 "metadata": {
  "kernelspec": {
   "display_name": "Python 3 (ipykernel)",
   "language": "python",
   "name": "python3"
  },
  "language_info": {
   "codemirror_mode": {
    "name": "ipython",
    "version": 3
   },
   "file_extension": ".py",
   "mimetype": "text/x-python",
   "name": "python",
   "nbconvert_exporter": "python",
   "pygments_lexer": "ipython3",
   "version": "3.9.18"
  }
 },
 "nbformat": 4,
 "nbformat_minor": 5
}
